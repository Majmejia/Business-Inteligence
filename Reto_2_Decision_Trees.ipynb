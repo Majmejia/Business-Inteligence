{
  "nbformat": 4,
  "nbformat_minor": 0,
  "metadata": {
    "colab": {
      "provenance": [],
      "authorship_tag": "ABX9TyPwbP+9RkzHRG83ERJDXy+f",
      "include_colab_link": true
    },
    "kernelspec": {
      "name": "python3",
      "display_name": "Python 3"
    },
    "language_info": {
      "name": "python"
    }
  },
  "cells": [
    {
      "cell_type": "markdown",
      "metadata": {
        "id": "view-in-github",
        "colab_type": "text"
      },
      "source": [
        "<a href=\"https://colab.research.google.com/github/Majmejia/Business-Inteligence/blob/main/Reto_2_Decision_Trees.ipynb\" target=\"_parent\"><img src=\"https://colab.research.google.com/assets/colab-badge.svg\" alt=\"Open In Colab\"/></a>"
      ]
    },
    {
      "cell_type": "markdown",
      "source": [
        "0. Se Procede a cargar las librerias"
      ],
      "metadata": {
        "id": "38c1CunvyGlE"
      }
    },
    {
      "cell_type": "code",
      "source": [
        "#Librerias cientificas\n",
        "import numpy as np\n",
        "import pandas as pd\n",
        "\n",
        "#Librerias Árbol\n",
        "from sklearn.tree import DecisionTreeClassifier\n",
        "from sklearn.metrics import confusion_matrix"
      ],
      "metadata": {
        "id": "cvQl7i4kyLXh"
      },
      "execution_count": null,
      "outputs": []
    },
    {
      "cell_type": "markdown",
      "source": [
        "1. Se procede a cargar los datos"
      ],
      "metadata": {
        "id": "smynCBxFybNM"
      }
    },
    {
      "cell_type": "code",
      "source": [
        "nxl='/content/2. CollegeAdmisions_Int_M. Reto 2.xlsx'\n",
        "XDB=pd.read_excel(nxl,sheet_name=0)\n",
        "XDB.head(100)\n",
        "XDB=XDB.dropna() #Elimina filas vacias o datos erroneos\n",
        "\n",
        "#Seleccionar las variables\n",
        "XD=XDB[['Edu_Parent1','Edu_Parent2','Gender','White','Asian','HSGPA','SAT/ACT']] #Variables de entrada\n",
        "yd=XDB[['Admitted']] #Variables de salida\n",
        "\n",
        "#Se convierte la variable 'Gender' En una variable categorica\n",
        "XD.loc[:,'Gender'] = XD['Gender'].map({'F': 0, 'M': 1})\n"
      ],
      "metadata": {
        "colab": {
          "base_uri": "https://localhost:8080/",
          "height": 423
        },
        "id": "ILpWRD3UyfiN",
        "outputId": "a1c25396-2ea1-4e14-b733-1c16c2875d0a"
      },
      "execution_count": null,
      "outputs": [
        {
          "output_type": "execute_result",
          "data": {
            "text/plain": [
              "       Edu_Parent1  Edu_Parent2 Gender  White  Asian  HSGPA  SAT/ACT\n",
              "6                6            6      0      1      0   4.26     1430\n",
              "28               7            6      1      1      0   3.95     1340\n",
              "46               3            6      1      1      0   4.33     1200\n",
              "61               7            7      0      1      0   4.27     1530\n",
              "65               6            7      0      0      0   4.04     1270\n",
              "...            ...          ...    ...    ...    ...    ...      ...\n",
              "17330            2            5      1      0      0   2.80     1010\n",
              "17332            7            4      1      1      0   3.04     1130\n",
              "17333            4            6      1      1      0   2.80     1210\n",
              "17334            7            6      1      0      0   3.42     1000\n",
              "17337            7            6      1      1      0   3.05     1130\n",
              "\n",
              "[1528 rows x 7 columns]"
            ],
            "text/html": [
              "\n",
              "  <div id=\"df-a7d47ec3-73ac-4d9d-91d5-d5bfec86f0c1\" class=\"colab-df-container\">\n",
              "    <div>\n",
              "<style scoped>\n",
              "    .dataframe tbody tr th:only-of-type {\n",
              "        vertical-align: middle;\n",
              "    }\n",
              "\n",
              "    .dataframe tbody tr th {\n",
              "        vertical-align: top;\n",
              "    }\n",
              "\n",
              "    .dataframe thead th {\n",
              "        text-align: right;\n",
              "    }\n",
              "</style>\n",
              "<table border=\"1\" class=\"dataframe\">\n",
              "  <thead>\n",
              "    <tr style=\"text-align: right;\">\n",
              "      <th></th>\n",
              "      <th>Edu_Parent1</th>\n",
              "      <th>Edu_Parent2</th>\n",
              "      <th>Gender</th>\n",
              "      <th>White</th>\n",
              "      <th>Asian</th>\n",
              "      <th>HSGPA</th>\n",
              "      <th>SAT/ACT</th>\n",
              "    </tr>\n",
              "  </thead>\n",
              "  <tbody>\n",
              "    <tr>\n",
              "      <th>6</th>\n",
              "      <td>6</td>\n",
              "      <td>6</td>\n",
              "      <td>0</td>\n",
              "      <td>1</td>\n",
              "      <td>0</td>\n",
              "      <td>4.26</td>\n",
              "      <td>1430</td>\n",
              "    </tr>\n",
              "    <tr>\n",
              "      <th>28</th>\n",
              "      <td>7</td>\n",
              "      <td>6</td>\n",
              "      <td>1</td>\n",
              "      <td>1</td>\n",
              "      <td>0</td>\n",
              "      <td>3.95</td>\n",
              "      <td>1340</td>\n",
              "    </tr>\n",
              "    <tr>\n",
              "      <th>46</th>\n",
              "      <td>3</td>\n",
              "      <td>6</td>\n",
              "      <td>1</td>\n",
              "      <td>1</td>\n",
              "      <td>0</td>\n",
              "      <td>4.33</td>\n",
              "      <td>1200</td>\n",
              "    </tr>\n",
              "    <tr>\n",
              "      <th>61</th>\n",
              "      <td>7</td>\n",
              "      <td>7</td>\n",
              "      <td>0</td>\n",
              "      <td>1</td>\n",
              "      <td>0</td>\n",
              "      <td>4.27</td>\n",
              "      <td>1530</td>\n",
              "    </tr>\n",
              "    <tr>\n",
              "      <th>65</th>\n",
              "      <td>6</td>\n",
              "      <td>7</td>\n",
              "      <td>0</td>\n",
              "      <td>0</td>\n",
              "      <td>0</td>\n",
              "      <td>4.04</td>\n",
              "      <td>1270</td>\n",
              "    </tr>\n",
              "    <tr>\n",
              "      <th>...</th>\n",
              "      <td>...</td>\n",
              "      <td>...</td>\n",
              "      <td>...</td>\n",
              "      <td>...</td>\n",
              "      <td>...</td>\n",
              "      <td>...</td>\n",
              "      <td>...</td>\n",
              "    </tr>\n",
              "    <tr>\n",
              "      <th>17330</th>\n",
              "      <td>2</td>\n",
              "      <td>5</td>\n",
              "      <td>1</td>\n",
              "      <td>0</td>\n",
              "      <td>0</td>\n",
              "      <td>2.80</td>\n",
              "      <td>1010</td>\n",
              "    </tr>\n",
              "    <tr>\n",
              "      <th>17332</th>\n",
              "      <td>7</td>\n",
              "      <td>4</td>\n",
              "      <td>1</td>\n",
              "      <td>1</td>\n",
              "      <td>0</td>\n",
              "      <td>3.04</td>\n",
              "      <td>1130</td>\n",
              "    </tr>\n",
              "    <tr>\n",
              "      <th>17333</th>\n",
              "      <td>4</td>\n",
              "      <td>6</td>\n",
              "      <td>1</td>\n",
              "      <td>1</td>\n",
              "      <td>0</td>\n",
              "      <td>2.80</td>\n",
              "      <td>1210</td>\n",
              "    </tr>\n",
              "    <tr>\n",
              "      <th>17334</th>\n",
              "      <td>7</td>\n",
              "      <td>6</td>\n",
              "      <td>1</td>\n",
              "      <td>0</td>\n",
              "      <td>0</td>\n",
              "      <td>3.42</td>\n",
              "      <td>1000</td>\n",
              "    </tr>\n",
              "    <tr>\n",
              "      <th>17337</th>\n",
              "      <td>7</td>\n",
              "      <td>6</td>\n",
              "      <td>1</td>\n",
              "      <td>1</td>\n",
              "      <td>0</td>\n",
              "      <td>3.05</td>\n",
              "      <td>1130</td>\n",
              "    </tr>\n",
              "  </tbody>\n",
              "</table>\n",
              "<p>1528 rows × 7 columns</p>\n",
              "</div>\n",
              "    <div class=\"colab-df-buttons\">\n",
              "\n",
              "  <div class=\"colab-df-container\">\n",
              "    <button class=\"colab-df-convert\" onclick=\"convertToInteractive('df-a7d47ec3-73ac-4d9d-91d5-d5bfec86f0c1')\"\n",
              "            title=\"Convert this dataframe to an interactive table.\"\n",
              "            style=\"display:none;\">\n",
              "\n",
              "  <svg xmlns=\"http://www.w3.org/2000/svg\" height=\"24px\" viewBox=\"0 -960 960 960\">\n",
              "    <path d=\"M120-120v-720h720v720H120Zm60-500h600v-160H180v160Zm220 220h160v-160H400v160Zm0 220h160v-160H400v160ZM180-400h160v-160H180v160Zm440 0h160v-160H620v160ZM180-180h160v-160H180v160Zm440 0h160v-160H620v160Z\"/>\n",
              "  </svg>\n",
              "    </button>\n",
              "\n",
              "  <style>\n",
              "    .colab-df-container {\n",
              "      display:flex;\n",
              "      gap: 12px;\n",
              "    }\n",
              "\n",
              "    .colab-df-convert {\n",
              "      background-color: #E8F0FE;\n",
              "      border: none;\n",
              "      border-radius: 50%;\n",
              "      cursor: pointer;\n",
              "      display: none;\n",
              "      fill: #1967D2;\n",
              "      height: 32px;\n",
              "      padding: 0 0 0 0;\n",
              "      width: 32px;\n",
              "    }\n",
              "\n",
              "    .colab-df-convert:hover {\n",
              "      background-color: #E2EBFA;\n",
              "      box-shadow: 0px 1px 2px rgba(60, 64, 67, 0.3), 0px 1px 3px 1px rgba(60, 64, 67, 0.15);\n",
              "      fill: #174EA6;\n",
              "    }\n",
              "\n",
              "    .colab-df-buttons div {\n",
              "      margin-bottom: 4px;\n",
              "    }\n",
              "\n",
              "    [theme=dark] .colab-df-convert {\n",
              "      background-color: #3B4455;\n",
              "      fill: #D2E3FC;\n",
              "    }\n",
              "\n",
              "    [theme=dark] .colab-df-convert:hover {\n",
              "      background-color: #434B5C;\n",
              "      box-shadow: 0px 1px 3px 1px rgba(0, 0, 0, 0.15);\n",
              "      filter: drop-shadow(0px 1px 2px rgba(0, 0, 0, 0.3));\n",
              "      fill: #FFFFFF;\n",
              "    }\n",
              "  </style>\n",
              "\n",
              "    <script>\n",
              "      const buttonEl =\n",
              "        document.querySelector('#df-a7d47ec3-73ac-4d9d-91d5-d5bfec86f0c1 button.colab-df-convert');\n",
              "      buttonEl.style.display =\n",
              "        google.colab.kernel.accessAllowed ? 'block' : 'none';\n",
              "\n",
              "      async function convertToInteractive(key) {\n",
              "        const element = document.querySelector('#df-a7d47ec3-73ac-4d9d-91d5-d5bfec86f0c1');\n",
              "        const dataTable =\n",
              "          await google.colab.kernel.invokeFunction('convertToInteractive',\n",
              "                                                    [key], {});\n",
              "        if (!dataTable) return;\n",
              "\n",
              "        const docLinkHtml = 'Like what you see? Visit the ' +\n",
              "          '<a target=\"_blank\" href=https://colab.research.google.com/notebooks/data_table.ipynb>data table notebook</a>'\n",
              "          + ' to learn more about interactive tables.';\n",
              "        element.innerHTML = '';\n",
              "        dataTable['output_type'] = 'display_data';\n",
              "        await google.colab.output.renderOutput(dataTable, element);\n",
              "        const docLink = document.createElement('div');\n",
              "        docLink.innerHTML = docLinkHtml;\n",
              "        element.appendChild(docLink);\n",
              "      }\n",
              "    </script>\n",
              "  </div>\n",
              "\n",
              "\n",
              "<div id=\"df-421481eb-a6bd-4ed9-a3cc-456c61416d14\">\n",
              "  <button class=\"colab-df-quickchart\" onclick=\"quickchart('df-421481eb-a6bd-4ed9-a3cc-456c61416d14')\"\n",
              "            title=\"Suggest charts\"\n",
              "            style=\"display:none;\">\n",
              "\n",
              "<svg xmlns=\"http://www.w3.org/2000/svg\" height=\"24px\"viewBox=\"0 0 24 24\"\n",
              "     width=\"24px\">\n",
              "    <g>\n",
              "        <path d=\"M19 3H5c-1.1 0-2 .9-2 2v14c0 1.1.9 2 2 2h14c1.1 0 2-.9 2-2V5c0-1.1-.9-2-2-2zM9 17H7v-7h2v7zm4 0h-2V7h2v10zm4 0h-2v-4h2v4z\"/>\n",
              "    </g>\n",
              "</svg>\n",
              "  </button>\n",
              "\n",
              "<style>\n",
              "  .colab-df-quickchart {\n",
              "      --bg-color: #E8F0FE;\n",
              "      --fill-color: #1967D2;\n",
              "      --hover-bg-color: #E2EBFA;\n",
              "      --hover-fill-color: #174EA6;\n",
              "      --disabled-fill-color: #AAA;\n",
              "      --disabled-bg-color: #DDD;\n",
              "  }\n",
              "\n",
              "  [theme=dark] .colab-df-quickchart {\n",
              "      --bg-color: #3B4455;\n",
              "      --fill-color: #D2E3FC;\n",
              "      --hover-bg-color: #434B5C;\n",
              "      --hover-fill-color: #FFFFFF;\n",
              "      --disabled-bg-color: #3B4455;\n",
              "      --disabled-fill-color: #666;\n",
              "  }\n",
              "\n",
              "  .colab-df-quickchart {\n",
              "    background-color: var(--bg-color);\n",
              "    border: none;\n",
              "    border-radius: 50%;\n",
              "    cursor: pointer;\n",
              "    display: none;\n",
              "    fill: var(--fill-color);\n",
              "    height: 32px;\n",
              "    padding: 0;\n",
              "    width: 32px;\n",
              "  }\n",
              "\n",
              "  .colab-df-quickchart:hover {\n",
              "    background-color: var(--hover-bg-color);\n",
              "    box-shadow: 0 1px 2px rgba(60, 64, 67, 0.3), 0 1px 3px 1px rgba(60, 64, 67, 0.15);\n",
              "    fill: var(--button-hover-fill-color);\n",
              "  }\n",
              "\n",
              "  .colab-df-quickchart-complete:disabled,\n",
              "  .colab-df-quickchart-complete:disabled:hover {\n",
              "    background-color: var(--disabled-bg-color);\n",
              "    fill: var(--disabled-fill-color);\n",
              "    box-shadow: none;\n",
              "  }\n",
              "\n",
              "  .colab-df-spinner {\n",
              "    border: 2px solid var(--fill-color);\n",
              "    border-color: transparent;\n",
              "    border-bottom-color: var(--fill-color);\n",
              "    animation:\n",
              "      spin 1s steps(1) infinite;\n",
              "  }\n",
              "\n",
              "  @keyframes spin {\n",
              "    0% {\n",
              "      border-color: transparent;\n",
              "      border-bottom-color: var(--fill-color);\n",
              "      border-left-color: var(--fill-color);\n",
              "    }\n",
              "    20% {\n",
              "      border-color: transparent;\n",
              "      border-left-color: var(--fill-color);\n",
              "      border-top-color: var(--fill-color);\n",
              "    }\n",
              "    30% {\n",
              "      border-color: transparent;\n",
              "      border-left-color: var(--fill-color);\n",
              "      border-top-color: var(--fill-color);\n",
              "      border-right-color: var(--fill-color);\n",
              "    }\n",
              "    40% {\n",
              "      border-color: transparent;\n",
              "      border-right-color: var(--fill-color);\n",
              "      border-top-color: var(--fill-color);\n",
              "    }\n",
              "    60% {\n",
              "      border-color: transparent;\n",
              "      border-right-color: var(--fill-color);\n",
              "    }\n",
              "    80% {\n",
              "      border-color: transparent;\n",
              "      border-right-color: var(--fill-color);\n",
              "      border-bottom-color: var(--fill-color);\n",
              "    }\n",
              "    90% {\n",
              "      border-color: transparent;\n",
              "      border-bottom-color: var(--fill-color);\n",
              "    }\n",
              "  }\n",
              "</style>\n",
              "\n",
              "  <script>\n",
              "    async function quickchart(key) {\n",
              "      const quickchartButtonEl =\n",
              "        document.querySelector('#' + key + ' button');\n",
              "      quickchartButtonEl.disabled = true;  // To prevent multiple clicks.\n",
              "      quickchartButtonEl.classList.add('colab-df-spinner');\n",
              "      try {\n",
              "        const charts = await google.colab.kernel.invokeFunction(\n",
              "            'suggestCharts', [key], {});\n",
              "      } catch (error) {\n",
              "        console.error('Error during call to suggestCharts:', error);\n",
              "      }\n",
              "      quickchartButtonEl.classList.remove('colab-df-spinner');\n",
              "      quickchartButtonEl.classList.add('colab-df-quickchart-complete');\n",
              "    }\n",
              "    (() => {\n",
              "      let quickchartButtonEl =\n",
              "        document.querySelector('#df-421481eb-a6bd-4ed9-a3cc-456c61416d14 button');\n",
              "      quickchartButtonEl.style.display =\n",
              "        google.colab.kernel.accessAllowed ? 'block' : 'none';\n",
              "    })();\n",
              "  </script>\n",
              "</div>\n",
              "\n",
              "  <div id=\"id_188efc76-f6c7-460a-8f92-3f38f58cb11e\">\n",
              "    <style>\n",
              "      .colab-df-generate {\n",
              "        background-color: #E8F0FE;\n",
              "        border: none;\n",
              "        border-radius: 50%;\n",
              "        cursor: pointer;\n",
              "        display: none;\n",
              "        fill: #1967D2;\n",
              "        height: 32px;\n",
              "        padding: 0 0 0 0;\n",
              "        width: 32px;\n",
              "      }\n",
              "\n",
              "      .colab-df-generate:hover {\n",
              "        background-color: #E2EBFA;\n",
              "        box-shadow: 0px 1px 2px rgba(60, 64, 67, 0.3), 0px 1px 3px 1px rgba(60, 64, 67, 0.15);\n",
              "        fill: #174EA6;\n",
              "      }\n",
              "\n",
              "      [theme=dark] .colab-df-generate {\n",
              "        background-color: #3B4455;\n",
              "        fill: #D2E3FC;\n",
              "      }\n",
              "\n",
              "      [theme=dark] .colab-df-generate:hover {\n",
              "        background-color: #434B5C;\n",
              "        box-shadow: 0px 1px 3px 1px rgba(0, 0, 0, 0.15);\n",
              "        filter: drop-shadow(0px 1px 2px rgba(0, 0, 0, 0.3));\n",
              "        fill: #FFFFFF;\n",
              "      }\n",
              "    </style>\n",
              "    <button class=\"colab-df-generate\" onclick=\"generateWithVariable('XD')\"\n",
              "            title=\"Generate code using this dataframe.\"\n",
              "            style=\"display:none;\">\n",
              "\n",
              "  <svg xmlns=\"http://www.w3.org/2000/svg\" height=\"24px\"viewBox=\"0 0 24 24\"\n",
              "       width=\"24px\">\n",
              "    <path d=\"M7,19H8.4L18.45,9,17,7.55,7,17.6ZM5,21V16.75L18.45,3.32a2,2,0,0,1,2.83,0l1.4,1.43a1.91,1.91,0,0,1,.58,1.4,1.91,1.91,0,0,1-.58,1.4L9.25,21ZM18.45,9,17,7.55Zm-12,3A5.31,5.31,0,0,0,4.9,8.1,5.31,5.31,0,0,0,1,6.5,5.31,5.31,0,0,0,4.9,4.9,5.31,5.31,0,0,0,6.5,1,5.31,5.31,0,0,0,8.1,4.9,5.31,5.31,0,0,0,12,6.5,5.46,5.46,0,0,0,6.5,12Z\"/>\n",
              "  </svg>\n",
              "    </button>\n",
              "    <script>\n",
              "      (() => {\n",
              "      const buttonEl =\n",
              "        document.querySelector('#id_188efc76-f6c7-460a-8f92-3f38f58cb11e button.colab-df-generate');\n",
              "      buttonEl.style.display =\n",
              "        google.colab.kernel.accessAllowed ? 'block' : 'none';\n",
              "\n",
              "      buttonEl.onclick = () => {\n",
              "        google.colab.notebook.generateWithVariable('XD');\n",
              "      }\n",
              "      })();\n",
              "    </script>\n",
              "  </div>\n",
              "\n",
              "    </div>\n",
              "  </div>\n"
            ],
            "application/vnd.google.colaboratory.intrinsic+json": {
              "type": "dataframe",
              "variable_name": "XD",
              "repr_error": "0"
            }
          },
          "metadata": {},
          "execution_count": 21
        }
      ]
    },
    {
      "cell_type": "markdown",
      "source": [
        "**Descripción de los Datos**\n",
        "De acuerdo con la base de datos de \"College Admisions\", esta posee un total de 1528, divididos entre quienes fueron admitidos y negados a la universidad. Todos estos aspirantes se dividen en un total de 8 variables.\n",
        "\n",
        "**Descripción**\n",
        "\n",
        "*Edu_Parent1 y Edu_Parent2: Hacen referencia al nivel educativo del padre y madre del aspirante\n",
        "\n",
        "*Gender: Indica el genero (Hombre o Mujer) del aspirante.\n",
        "\n",
        "*White: Indica si el aspirante es blanco (1) o caso contrario (0)\n",
        "\n",
        "*Asian:Indica si la persona es de presedencia asiatica o no.\n",
        "\n",
        "*HSGPA:Indica el rendimiento académico del aspirante durante la escuela secundaria y se utiliza comúnmente en el proceso de admisión a la universidad.\n",
        "\n",
        "*SAT/ACT: Puntuación obtenida por el aspirante en una de las dos pruebas estandarizadas utilizadas para la admisión a la universidad en los Estados Unidos\n",
        "\n",
        "*Admitted: Esta variable determina si un estudiante fue admitido o no a la universidad\n"
      ],
      "metadata": {
        "id": "GyymowQR06O7"
      }
    },
    {
      "cell_type": "markdown",
      "source": [
        "2. Se procede con la implementación del modelo"
      ],
      "metadata": {
        "id": "0uyGaOG42RB7"
      }
    },
    {
      "cell_type": "code",
      "source": [
        "mar=DecisionTreeClassifier(criterion='gini',max_depth=4, random_state=42)\n",
        "mar.fit(XD,yd)#Para ajustar el modelo del arbol entre las variables de entrada y salida\n",
        "\n",
        "#Se procede con la grafica\n",
        "from pydotplus import graph_from_dot_data #Me crea la grafica\n",
        "from sklearn.tree import export_graphviz #Me lo exporta a PNG, JPEG, TIFF\n",
        "\n",
        "ve=['Edu_Parent1','Edu_Parent2','Gender','White','Asian','HSGPA','SAT/ACT'] #Nombres para el árbol\n",
        "dot_data=export_graphviz(mar,feature_names=ve) #Crear el gráfico\n",
        "graph=graph_from_dot_data(dot_data)\n",
        "graph.write_png('ArbolDesicion2.png')\n",
        "\n"
      ],
      "metadata": {
        "colab": {
          "base_uri": "https://localhost:8080/"
        },
        "id": "CotCMSSj2VsE",
        "outputId": "461b7da2-3a7a-4e30-a022-8c3e0872fb4a"
      },
      "execution_count": null,
      "outputs": [
        {
          "output_type": "execute_result",
          "data": {
            "text/plain": [
              "True"
            ]
          },
          "metadata": {},
          "execution_count": 25
        }
      ]
    },
    {
      "cell_type": "markdown",
      "source": [
        "3. Se procede con el pronostico de la admisión para las personas agrupadas en la base de datos de pronóstico."
      ],
      "metadata": {
        "id": "AkbNisqq7lDM"
      }
    },
    {
      "cell_type": "code",
      "source": [
        "# Count admitted students\n",
        "admitted_count = XDB['Admitted'].value_counts()['Yes']\n",
        "\n",
        "# Count not admitted students\n",
        "not_admitted_count = XDB['Admitted'].value_counts()['No']\n",
        "\n",
        "# Print the results\n",
        "print(\"Admitted students:\", admitted_count)\n",
        "print(\"Not admitted students:\", not_admitted_count)"
      ],
      "metadata": {
        "colab": {
          "base_uri": "https://localhost:8080/"
        },
        "id": "OntEbvsD7xZr",
        "outputId": "8e7da7b2-9ed4-45f5-af4e-f7dcdea9ed3f"
      },
      "execution_count": null,
      "outputs": [
        {
          "output_type": "stream",
          "name": "stdout",
          "text": [
            "Admitted students: 1303\n",
            "Not admitted students: 225\n"
          ]
        }
      ]
    },
    {
      "cell_type": "markdown",
      "source": [
        "4. Se procede a determinar el número de nodos puros para el árbol asociado con la estructura del modelo."
      ],
      "metadata": {
        "id": "gQd62Sa-AR7t"
      }
    },
    {
      "cell_type": "code",
      "source": [
        "# Se obtiene la estructura del Árbol\n",
        "tree = mar.tree_\n",
        "\n",
        "# Se comienza con el conteo de nodos puros\n",
        "pure_nodes_count = 0\n",
        "\n",
        "# Se analiza a traves de todos los nodos del Árbol\n",
        "for node_id in range(tree.node_count):\n",
        "    # Check if the node is a leaf node (no children)\n",
        "    if tree.children_left[node_id] == tree.children_right[node_id]:\n",
        "        # Check if the node is pure (all samples belong to the same class)\n",
        "        if tree.impurity[node_id] == 0:\n",
        "            pure_nodes_count += 1\n",
        "\n",
        "# Copiar el numero de nodos puros\n",
        "print(\"Number of pure nodes:\", pure_nodes_count)"
      ],
      "metadata": {
        "colab": {
          "base_uri": "https://localhost:8080/"
        },
        "id": "K2TaQHa2AkN4",
        "outputId": "ef9ca79c-1c40-4652-809e-85e39fa729c5"
      },
      "execution_count": null,
      "outputs": [
        {
          "output_type": "stream",
          "name": "stdout",
          "text": [
            "Number of pure nodes: 7\n"
          ]
        }
      ]
    },
    {
      "cell_type": "markdown",
      "source": [
        "5. Llevar a cabo el pronóstico de la admisión para las personas agrupadas en la base de datos de pronóstico."
      ],
      "metadata": {
        "id": "FHUdV9VIBFIF"
      }
    },
    {
      "cell_type": "code",
      "source": [
        "import pandas as pd\n",
        "import numpy as np\n",
        "from sklearn.tree import DecisionTreeClassifier\n",
        "\n",
        "# ... (tu código para crear y entrenar el modelo 'mar')\n",
        "\n",
        "# Cargar datos de la hoja 1 del Excel\n",
        "nxl ='/content/2. CollegeAdmisions_Int_M. Reto 2.xlsx'\n",
        "XDBO = pd.read_excel(nxl, sheet_name=1) # Asumiendo que la hoja 1 se llama 'Hoja1'\n",
        "\n",
        "# Seleccionar las variables predictoras\n",
        "XD0 = XDBO[['Edu_Parent1', 'Edu_Parent2', 'Gender', 'White', 'Asian', 'HSGPA', 'SAT/ACT']]\n",
        "\n",
        "# Convertir 'Gender' a numérica en XD0\n",
        "XD0['Gender'] = XD0['Gender'].map({'F': 0, 'M': 1})\n",
        "\n",
        "# Realizar la predicción\n",
        "y_pred = mar.predict(XD0)\n",
        "\n",
        "# Agregar las predicciones al DataFrame original\n",
        "XDBO['Admisión_Predicha'] = y_pred\n",
        "\n",
        "# Guardar el DataFrame con las predicciones en un nuevo archivo Excel\n",
        "XDBO.to_excel(\"Admisiones_con_Predicciones.xlsx\", index=False)"
      ],
      "metadata": {
        "colab": {
          "base_uri": "https://localhost:8080/"
        },
        "id": "PWsvyVTZBXPR",
        "outputId": "c8bf1ecd-8c0c-40dc-b76b-b9a38209410b"
      },
      "execution_count": null,
      "outputs": [
        {
          "output_type": "stream",
          "name": "stderr",
          "text": [
            "<ipython-input-36-2a35c1d781a0>:15: SettingWithCopyWarning: \n",
            "A value is trying to be set on a copy of a slice from a DataFrame.\n",
            "Try using .loc[row_indexer,col_indexer] = value instead\n",
            "\n",
            "See the caveats in the documentation: https://pandas.pydata.org/pandas-docs/stable/user_guide/indexing.html#returning-a-view-versus-a-copy\n",
            "  XD0['Gender'] = XD0['Gender'].map({'F': 0, 'M': 1})\n"
          ]
        }
      ]
    },
    {
      "cell_type": "markdown",
      "source": [
        "6. Evaluar el comportamiento del modelo\n"
      ],
      "metadata": {
        "id": "KD2b5gw1DgU6"
      }
    },
    {
      "cell_type": "code",
      "source": [
        "ydp=mar.predict(XD) #Prónostico sobre la base de datos original\n",
        "cm=confusion_matrix(yd,ydp)\n",
        "print(\"La matriz de confusión es:\\n\",cm)\n",
        "\n",
        "VN=cm[0,0] #Verdaderos Negativos\n",
        "VP=cm[1,1] #Verdaderos Positivos\n",
        "FP=cm[0,1] #Falsos Positivos\n",
        "FN=cm[1,0] #Falsos Negativos\n",
        "\n",
        "Exactitud=(VP+VN)/(VP+VN+FP+FN)\n",
        "Sensibilidad=VP/(VP+FN)\n",
        "Especificidad=VN/(VN+FP)\n",
        "TasaError=(FP+FN)/(VP+VN+FP+FN)\n",
        "PredNeg=VN/(VN+FP)\n",
        "Precision=VP/(VP+FP)\n",
        "PredNeg=VN/(VN+FN)\n",
        "\n",
        "print(\"La tasa de falsos negativos del modelo es:\\n\",PredNeg)\n",
        "print(\"La precisión del modelo es:\\n\",Precision)\n",
        "print(\"Tasa de Error=\",TasaError)\n",
        "print(\"Predicción Negativa=\",PredNeg)\n",
        "print(\"Exactitud=\",Exactitud)\n",
        "print(\"Sensibilidad=\",Sensibilidad)\n",
        "print(\"Especificidad=\",Especificidad)"
      ],
      "metadata": {
        "colab": {
          "base_uri": "https://localhost:8080/"
        },
        "id": "BA2J7zSTDpyz",
        "outputId": "d23365d4-86f6-472e-8e9c-561a69146dae"
      },
      "execution_count": null,
      "outputs": [
        {
          "output_type": "stream",
          "name": "stdout",
          "text": [
            "La matriz de confusión es:\n",
            " [[  20  205]\n",
            " [   2 1301]]\n",
            "La tasa de falsos negativos del modelo es:\n",
            " 0.9090909090909091\n",
            "La precisión del modelo es:\n",
            " 0.8638778220451527\n",
            "Tasa de Error= 0.1354712041884817\n",
            "Predicción Negativa= 0.9090909090909091\n",
            "Exactitud= 0.8645287958115183\n",
            "Sensibilidad= 0.9984650805832693\n",
            "Especificidad= 0.08888888888888889\n"
          ]
        }
      ]
    },
    {
      "cell_type": "markdown",
      "source": [
        "**Análisis de los resultados**\n",
        "\n",
        "La matriz de confusión muestra una predominancia por los valores verdaderos positivos (1301). Esto hizo que el modelo alcanzara valores por encima del 80% en promedio para los indices de: precisión del modelo, predicción negativa, exactitud y sesibilidad. Lo que demuestra un buen funcionamiento del modelo para determinar a los aspirantes que fueron admitidos.\n",
        "\n",
        "La base de datos no muestra ningun campo sin decisiones tomadas en cuando la admision de los estudiantes. Se destaca que el numero de personas admitidas fue mucho mayor al de los no admitidos (1303 admitidos y 225 no admitidos).De acuerdo con los indices el modelo muestra un mejor comportamiento frente a la sensibilidad (0.998) o la predicción negativa de los datos (0.909)."
      ],
      "metadata": {
        "id": "-DZYXLFFEaCb"
      }
    }
  ]
}